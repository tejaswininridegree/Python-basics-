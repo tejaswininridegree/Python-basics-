{
  "nbformat": 4,
  "nbformat_minor": 0,
  "metadata": {
    "colab": {
      "provenance": [],
      "authorship_tag": "ABX9TyNdnBL9LRkLoo9TYYfWUczL",
      "include_colab_link": true
    },
    "kernelspec": {
      "name": "python3",
      "display_name": "Python 3"
    },
    "language_info": {
      "name": "python"
    }
  },
  "cells": [
    {
      "cell_type": "markdown",
      "metadata": {
        "id": "view-in-github",
        "colab_type": "text"
      },
      "source": [
        "<a href=\"https://colab.research.google.com/github/tejaswininridegree/Python-basics-/blob/main/Numpy.ipynb\" target=\"_parent\"><img src=\"https://colab.research.google.com/assets/colab-badge.svg\" alt=\"Open In Colab\"/></a>"
      ]
    },
    {
      "cell_type": "code",
      "execution_count": null,
      "metadata": {
        "id": "5fdKXrz4m40z"
      },
      "outputs": [],
      "source": [
        "#Numpy- Numeric Python\n",
        "# Most powerful package - Library\n",
        "\n",
        "#Numpy- Dimensions\n",
        "# A-One Dimensionaal Array\n",
        "# [A,B] || [ A\n",
        "             #B ]-Two Dimensional Array- Row ||column\n",
        "# Three Dimensional\n",
        "# Array-Storing,Manipulating,Similar Data Type\n",
        "# Faster than any mathematical functions\n",
        "# Convenient compared to other packages\n",
        "# Memory Efficiency\n",
        "# Support Multi Dimensional Arrays\n",
        "#speed(Numpy operations)>speed(Lists operations)\n",
        "#size(Numpy operations)<size(Lists operations)\n",
        "# memory optimizatin(Numpy)>memory optimization(List operations)"
      ]
    },
    {
      "cell_type": "code",
      "source": [
        "# Install numpy - pip3 install numpy // pip install numpy"
      ],
      "metadata": {
        "id": "wLnBI_CzncuU"
      },
      "execution_count": null,
      "outputs": []
    },
    {
      "cell_type": "code",
      "source": [
        "import numpy as np"
      ],
      "metadata": {
        "id": "V8yVWDPNniNY"
      },
      "execution_count": null,
      "outputs": []
    },
    {
      "cell_type": "code",
      "source": [
        "# create a numpy array\n",
        "# 1D array\n",
        "\n",
        "arr1D = np.array([1,2,3,4,5])\n",
        "print(arr1D)"
      ],
      "metadata": {
        "colab": {
          "base_uri": "https://localhost:8080/"
        },
        "id": "lbYI8J4vno6D",
        "outputId": "8c6f6881-900c-4549-bd01-fb42e246c265"
      },
      "execution_count": null,
      "outputs": [
        {
          "output_type": "stream",
          "name": "stdout",
          "text": [
            "[1 2 3 4 5]\n"
          ]
        }
      ]
    },
    {
      "cell_type": "code",
      "source": [
        "# create 2D array-Matrix\n",
        "arr2D = np.array([\n",
        "    [1,2,3],[4,5,6]\n",
        "])\n",
        "print(arr2D)"
      ],
      "metadata": {
        "colab": {
          "base_uri": "https://localhost:8080/"
        },
        "id": "jLrMoXcrnrTd",
        "outputId": "53a6920d-ec64-47b9-a68a-33259c65462b"
      },
      "execution_count": null,
      "outputs": [
        {
          "output_type": "stream",
          "name": "stdout",
          "text": [
            "[[1 2 3]\n",
            " [4 5 6]]\n"
          ]
        }
      ]
    },
    {
      "cell_type": "code",
      "source": [
        "# creating Arrays with default values\n",
        "\n",
        "allZeros = np.zeros((2,3))\n",
        "print (allZeros)\n",
        "\n",
        "# creating matrix with all values of elements as '1'\n",
        "\n",
        "allOnes = np.ones((2,3))\n",
        "print (allOnes)\n",
        "\n",
        "#creating matrix with all values of elements 'constant value -n ~ Fill value'\n",
        "\n",
        "\n",
        "allConstant = np.full((2,3),6)\n",
        "print(allConstant)"
      ],
      "metadata": {
        "colab": {
          "base_uri": "https://localhost:8080/"
        },
        "id": "vRcgmy0Hnxmh",
        "outputId": "a5f201d5-187d-430b-b0fd-4704c5fb11d0"
      },
      "execution_count": null,
      "outputs": [
        {
          "output_type": "stream",
          "name": "stdout",
          "text": [
            "[[0. 0. 0.]\n",
            " [0. 0. 0.]]\n",
            "[[1. 1. 1.]\n",
            " [1. 1. 1.]]\n",
            "[[6 6 6]\n",
            " [6 6 6]]\n"
          ]
        }
      ]
    },
    {
      "cell_type": "code",
      "source": [
        "# create an identity matrix -I- Square matrix\n",
        "identity = np.eye(4)\n",
        "print(identity)\n",
        "\n",
        "# Identity matrix-Aii = 1 && Aij = 0\n",
        "# For all A belongs to R M×N\n",
        "#Aij-"
      ],
      "metadata": {
        "colab": {
          "base_uri": "https://localhost:8080/"
        },
        "id": "IGTYbKs3n4Yi",
        "outputId": "ff10d5c0-7983-4a0d-bbea-234c0e4e4d72"
      },
      "execution_count": null,
      "outputs": [
        {
          "output_type": "stream",
          "name": "stdout",
          "text": [
            "[[1. 0. 0. 0.]\n",
            " [0. 1. 0. 0.]\n",
            " [0. 0. 1. 0.]\n",
            " [0. 0. 0. 1.]]\n"
          ]
        }
      ]
    },
    {
      "cell_type": "code",
      "source": [
        "# Creare a random Matrices\n",
        "\n",
        "# between 0 and 1\n",
        "rand1 = np.random.rand(3,3)\n",
        "print(rand1)\n",
        "\n",
        "#between a and b\n",
        "rand2 = np.random.randint(10,20,(3,3))\n",
        "print(rand2)"
      ],
      "metadata": {
        "id": "2wosj9IZoMI2",
        "outputId": "684d1360-b0be-43f9-f3ab-c966ceab145f",
        "colab": {
          "base_uri": "https://localhost:8080/"
        }
      },
      "execution_count": null,
      "outputs": [
        {
          "output_type": "stream",
          "name": "stdout",
          "text": [
            "[[0.17931247 0.91781261 0.94048092]\n",
            " [0.48912488 0.09751962 0.73252725]\n",
            " [0.6519201  0.46285982 0.61092836]]\n",
            "[[12 12 11]\n",
            " [10 13 19]\n",
            " [11 17 18]]\n"
          ]
        }
      ]
    },
    {
      "cell_type": "code",
      "source": [
        "# Array properties\n",
        "arr = np.array([[1,2,3,4],[2,3,4,5]])\n",
        "print(arr)\n",
        "# shape of the Array\n",
        "print (f'The shape of the array is {arr.shape}')\n",
        "# size of the Array\n",
        "print(f'The size of the array is {arr.size}')\n",
        "# datatype of the Array\n",
        "print(f'The Datatype of the array is {arr.dtype}')\n",
        "# dimensions of array\n",
        "print(f'The Dimensions of the array is {arr.ndim} ')"
      ],
      "metadata": {
        "id": "pp8DKmAuoNpN",
        "outputId": "d9d4b829-f49c-4b74-b322-fe619c0dc762",
        "colab": {
          "base_uri": "https://localhost:8080/"
        }
      },
      "execution_count": null,
      "outputs": [
        {
          "output_type": "stream",
          "name": "stdout",
          "text": [
            "[[1 2 3 4]\n",
            " [2 3 4 5]]\n",
            "The shape of the array is (2, 4)\n",
            "The size of the array is 8\n",
            "The Datatype of the array is int64\n",
            "The Dimensions of the array is 2 \n"
          ]
        }
      ]
    },
    {
      "cell_type": "code",
      "source": [
        "# Indexing and Slicing\n",
        "# Access the elements in 1D array\n",
        "arr = np.array([1,2,3,4])\n",
        "print(arr)\n",
        "print(arr[3])\n",
        "\n",
        "# Slicing the elements\n",
        "print(arr[0:3])\n",
        "\n",
        "# Access the elements in 2D array\n",
        "arr2 = np.array([[1,2,3],[2,3,4]])\n",
        "print(arr2)\n",
        "print(arr2[1,1])\n",
        "print(arr2[0,:])# first row with all columns\n",
        "print(arr2[:,0])# first column with all rows"
      ],
      "metadata": {
        "colab": {
          "base_uri": "https://localhost:8080/"
        },
        "id": "5JjuJmjAos_g",
        "outputId": "3844a5f8-3f67-4b97-fb40-6c0f035ac870"
      },
      "execution_count": null,
      "outputs": [
        {
          "output_type": "stream",
          "name": "stdout",
          "text": [
            "[1 2 3 4]\n",
            "4\n",
            "[1 2 3]\n",
            "[[1 2 3]\n",
            " [2 3 4]]\n",
            "3\n",
            "[1 2 3]\n",
            "[1 2]\n"
          ]
        }
      ]
    },
    {
      "cell_type": "code",
      "source": [
        "# l1 = []\n",
        "# [l1.append(_) for _ in range(10)]\n",
        "l1 = np.arange(0,10)\n",
        "print (l1)"
      ],
      "metadata": {
        "colab": {
          "base_uri": "https://localhost:8080/"
        },
        "id": "6oRabq7oorD1",
        "outputId": "63adabde-7dc0-47ec-8106-2d666c14ed48"
      },
      "execution_count": null,
      "outputs": [
        {
          "output_type": "stream",
          "name": "stdout",
          "text": [
            "[0 1 2 3 4 5 6 7 8 9]\n"
          ]
        }
      ]
    },
    {
      "cell_type": "code",
      "source": [
        "l1 = np.arange(10,0,-1)\n",
        "print(l1)"
      ],
      "metadata": {
        "colab": {
          "base_uri": "https://localhost:8080/"
        },
        "id": "A2NFL3bUoz87",
        "outputId": "44db4a14-db10-4ae8-ab9f-b6a6114f58a9"
      },
      "execution_count": null,
      "outputs": [
        {
          "output_type": "stream",
          "name": "stdout",
          "text": [
            "[10  9  8  7  6  5  4  3  2  1]\n"
          ]
        }
      ]
    },
    {
      "cell_type": "code",
      "source": [
        "# Mathematical Operations\n",
        "a = np.array([1,2,3])\n",
        "b = np.array([3,4,5])\n",
        "\n",
        "print(f'the sum of a and b is {a+b}')\n",
        "print(f'the diff of a and b is {a-b}')\n",
        "print(f'the product of a and b is {a*b}')\n",
        "print(f'the division of a and b is {a/b}')"
      ],
      "metadata": {
        "colab": {
          "base_uri": "https://localhost:8080/"
        },
        "id": "_V2TQi7Io5Ik",
        "outputId": "30db73aa-39b3-4443-a5cb-c82aa3edee7a"
      },
      "execution_count": null,
      "outputs": [
        {
          "output_type": "stream",
          "name": "stdout",
          "text": [
            "the sum of a and b is [4 6 8]\n",
            "the diff of a and b is [-2 -2 -2]\n",
            "the product of a and b is [ 3  8 15]\n",
            "the division of a and b is [0.33333333 0.5        0.6       ]\n"
          ]
        }
      ]
    },
    {
      "cell_type": "code",
      "source": [
        "# Matrix Multiplication\n",
        "b1 = np.array([[1,2,3],[3,4,5]])\n",
        "b2 = np.array([[5,6],[7,8],[1,3]])\n",
        "\n",
        "# Dot product --- product =AB -- m×n --B n×p\n",
        "c = np.dot(b1,b2)\n",
        "print(c)"
      ],
      "metadata": {
        "id": "Gm3Ad-nGo9TF",
        "outputId": "b4a61ec5-bc50-4c3c-9abc-8deba7ae4118",
        "colab": {
          "base_uri": "https://localhost:8080/"
        }
      },
      "execution_count": null,
      "outputs": [
        {
          "output_type": "stream",
          "name": "stdout",
          "text": [
            "[[22 31]\n",
            " [48 65]]\n"
          ]
        }
      ]
    },
    {
      "cell_type": "code",
      "source": [
        "b1"
      ],
      "metadata": {
        "colab": {
          "base_uri": "https://localhost:8080/"
        },
        "id": "K3y_CBweqfim",
        "outputId": "5603a135-8af1-4ced-c221-8fc9913c3127"
      },
      "execution_count": null,
      "outputs": [
        {
          "output_type": "execute_result",
          "data": {
            "text/plain": [
              "array([[1, 2, 3],\n",
              "       [3, 4, 5]])"
            ]
          },
          "metadata": {},
          "execution_count": 24
        }
      ]
    },
    {
      "cell_type": "code",
      "source": [
        "b2"
      ],
      "metadata": {
        "colab": {
          "base_uri": "https://localhost:8080/"
        },
        "id": "1zM-BxPOqhTW",
        "outputId": "59b3fb81-5116-45d0-d9c8-4e1ddc14c56d"
      },
      "execution_count": null,
      "outputs": [
        {
          "output_type": "execute_result",
          "data": {
            "text/plain": [
              "array([[5, 6],\n",
              "       [7, 8],\n",
              "       [1, 3]])"
            ]
          },
          "metadata": {},
          "execution_count": 25
        }
      ]
    },
    {
      "cell_type": "code",
      "source": [
        "print(b1)"
      ],
      "metadata": {
        "colab": {
          "base_uri": "https://localhost:8080/"
        },
        "id": "UVEa4xpRpJil",
        "outputId": "9ed1866c-8c2d-4259-9cbd-5c4fec33e4f5"
      },
      "execution_count": null,
      "outputs": [
        {
          "output_type": "stream",
          "name": "stdout",
          "text": [
            "[[1 2 3]\n",
            " [3 4 5]]\n"
          ]
        }
      ]
    },
    {
      "cell_type": "code",
      "source": [
        "print(b2)"
      ],
      "metadata": {
        "colab": {
          "base_uri": "https://localhost:8080/"
        },
        "id": "6B25z2fvpPt6",
        "outputId": "ef74dac9-5ee2-430c-a464-92eb332c357d"
      },
      "execution_count": null,
      "outputs": [
        {
          "output_type": "stream",
          "name": "stdout",
          "text": [
            "[[5 6]\n",
            " [7 8]\n",
            " [1 3]]\n"
          ]
        }
      ]
    }
  ]
}